{
 "cells": [
  {
   "cell_type": "markdown",
   "id": "61839d57",
   "metadata": {},
   "source": [
    "# 🌿 Plant Disease Detection using Vision Transformers (ViT)\n",
    "\n",
    "This notebook demonstrates how to train a Vision Transformer (ViT) model to detect plant diseases using the PlantVillage dataset from Kaggle."
   ]
  },
  {
   "cell_type": "code",
   "execution_count": null,
   "id": "daf8fdd6",
   "metadata": {},
   "outputs": [],
   "source": [
    "\n",
    "!pip install transformers datasets torchvision timm\n"
   ]
  },
  {
   "cell_type": "code",
   "execution_count": null,
   "id": "93ca731a",
   "metadata": {},
   "outputs": [],
   "source": [
    "\n",
    "from transformers import ViTForImageClassification, AutoImageProcessor, TrainingArguments, Trainer\n",
    "from torchvision import transforms\n",
    "from torch.utils.data import Dataset\n",
    "import torch\n",
    "from PIL import Image\n",
    "import os, glob\n"
   ]
  },
  {
   "cell_type": "code",
   "execution_count": null,
   "id": "0ca42a54",
   "metadata": {},
   "outputs": [],
   "source": [
    "\n",
    "class PlantDataset(Dataset):\n",
    "    def __init__(self, image_dir, label_map, transform):\n",
    "        self.image_paths = glob.glob(os.path.join(image_dir, \"*\", \"*.jpg\"))\n",
    "        self.labels = [label_map[os.path.basename(os.path.dirname(p))] for p in self.image_paths]\n",
    "        self.transform = transform\n",
    "\n",
    "    def __len__(self):\n",
    "        return len(self.image_paths)\n",
    "\n",
    "    def __getitem__(self, idx):\n",
    "        image = Image.open(self.image_paths[idx]).convert(\"RGB\")\n",
    "        return {\n",
    "            \"pixel_values\": self.transform(image),\n",
    "            \"labels\": torch.tensor(self.labels[idx])\n",
    "        }\n"
   ]
  },
  {
   "cell_type": "code",
   "execution_count": null,
   "id": "89a39dc6",
   "metadata": {},
   "outputs": [],
   "source": [
    "\n",
    "feature_extractor = AutoImageProcessor.from_pretrained(\"google/vit-base-patch16-224-in21k\")\n",
    "transform = transforms.Compose([\n",
    "    transforms.Resize((224, 224)),\n",
    "    transforms.ToTensor(),\n",
    "    transforms.Normalize(mean=feature_extractor.image_mean, std=feature_extractor.image_std),\n",
    "])\n"
   ]
  },
  {
   "cell_type": "code",
   "execution_count": null,
   "id": "9d8219eb",
   "metadata": {},
   "outputs": [],
   "source": [
    "\n",
    "# Define label map based on your dataset folders\n",
    "label_map = {\n",
    "    \"Apple___Black_rot\": 0,\n",
    "    \"Apple___Scab\": 1,\n",
    "    \"Apple___healthy\": 2,\n",
    "    \"Corn___Cercospora_leaf_spot Gray_leaf_spot\": 3,\n",
    "    \"Corn___Common_rust\": 4,\n",
    "    \"Corn___healthy\": 5,\n",
    "    # Add more as needed\n",
    "}\n",
    "\n",
    "train_dir = \"/path/to/PlantVillage/train\"\n",
    "test_dir = \"/path/to/PlantVillage/test\"\n",
    "\n",
    "train_dataset = PlantDataset(train_dir, label_map, transform)\n",
    "test_dataset = PlantDataset(test_dir, label_map, transform)\n"
   ]
  },
  {
   "cell_type": "code",
   "execution_count": null,
   "id": "08d5d058",
   "metadata": {},
   "outputs": [],
   "source": [
    "\n",
    "model = ViTForImageClassification.from_pretrained(\n",
    "    \"google/vit-base-patch16-224-in21k\",\n",
    "    num_labels=len(label_map)\n",
    ")\n"
   ]
  },
  {
   "cell_type": "code",
   "execution_count": null,
   "id": "6b1074d7",
   "metadata": {},
   "outputs": [],
   "source": [
    "\n",
    "training_args = TrainingArguments(\n",
    "    output_dir=\"./vit-plant-disease\",\n",
    "    evaluation_strategy=\"epoch\",\n",
    "    save_strategy=\"epoch\",\n",
    "    per_device_train_batch_size=16,\n",
    "    per_device_eval_batch_size=16,\n",
    "    num_train_epochs=5,\n",
    "    weight_decay=0.01,\n",
    "    logging_dir=\"./logs\",\n",
    "    logging_steps=10,\n",
    "    load_best_model_at_end=True\n",
    ")\n",
    "\n",
    "trainer = Trainer(\n",
    "    model=model,\n",
    "    args=training_args,\n",
    "    train_dataset=train_dataset,\n",
    "    eval_dataset=test_dataset,\n",
    "    tokenizer=feature_extractor,\n",
    ")\n"
   ]
  },
  {
   "cell_type": "code",
   "execution_count": null,
   "id": "a59815d0",
   "metadata": {},
   "outputs": [],
   "source": [
    "\n",
    "trainer.train()\n"
   ]
  },
  {
   "cell_type": "code",
   "execution_count": null,
   "id": "da395b6b",
   "metadata": {},
   "outputs": [],
   "source": [
    "\n",
    "metrics = trainer.evaluate()\n",
    "print(metrics)\n"
   ]
  }
 ],
 "metadata": {},
 "nbformat": 4,
 "nbformat_minor": 5
}
